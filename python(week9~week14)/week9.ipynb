{
 "cells": [
  {
   "cell_type": "code",
   "execution_count": 3,
   "metadata": {},
   "outputs": [
    {
     "name": "stdout",
     "output_type": "stream",
     "text": [
      "x 값을 입력하세요(정수) >> 6\n",
      "2차 방정식 계산 결과, y 값은 141 입니다.\n"
     ]
    }
   ],
   "source": [
    "# 실습 1: 수치 계산\n",
    "# x 값을 입력 받아 다음의 2차 방정식의 y 값을 계산하는 프로그램\n",
    "# y = 3x^2 + 5x +3\n",
    "\n",
    "x = int(input(\"x 값을 입력하세요(정수) >> \"))\n",
    "y = 3*x*x + 5*x +3\n",
    "print(\"2차 방정식 계산 결과, y 값은 {0:d} 입니다.\".format(y))"
   ]
  },
  {
   "cell_type": "code",
   "execution_count": 14,
   "metadata": {},
   "outputs": [
    {
     "name": "stdout",
     "output_type": "stream",
     "text": [
      "반지름을 입력하세요 >> 5\n",
      "반지름 5.00 인 원의 둘레는 31.40, 넓이는 78.50 입니다.\n"
     ]
    }
   ],
   "source": [
    "# 실습 1: 수치 계산\n",
    "# 반지름을 입력  받아 원의 둘레와 넓이를 구하는 프로그램\n",
    "\n",
    "pi = 3.14\n",
    "radius = float(input(\"반지름을 입력하세요 >> \"))\n",
    "circumference = 2 * pi * radius\n",
    "area = pi * radius * radius\n",
    "print(\"반지름 {0:.2f} 인 원의 둘레는 {1:.2f}, 넓이는 {2:.2f} 입니다.\".format(radius, circumference, area))"
   ]
  },
  {
   "cell_type": "code",
   "execution_count": null,
   "metadata": {},
   "outputs": [],
   "source": []
  }
 ],
 "metadata": {
  "kernelspec": {
   "display_name": "Python 3",
   "language": "python",
   "name": "python3"
  },
  "language_info": {
   "codemirror_mode": {
    "name": "ipython",
    "version": 3
   },
   "file_extension": ".py",
   "mimetype": "text/x-python",
   "name": "python",
   "nbconvert_exporter": "python",
   "pygments_lexer": "ipython3",
   "version": "3.8.5"
  }
 },
 "nbformat": 4,
 "nbformat_minor": 4
}
