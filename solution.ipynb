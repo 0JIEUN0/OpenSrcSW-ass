{
 "cells": [
  {
   "cell_type": "code",
   "execution_count": 92,
   "metadata": {},
   "outputs": [],
   "source": [
    "# 문제 1\n",
    "\n",
    "class Point:\n",
    "    x = 0\n",
    "    y = 0\n",
    "    def __init__(self, a, b):\n",
    "        self.x = a\n",
    "        self.y = b\n",
    "    def show(self):\n",
    "        print(\"({0:d},{1:d})\".format(self.x, self.y))\n",
    "    def __add__(self, other):\n",
    "        return Point(self.x + other.x, self.y + other.y)"
   ]
  },
  {
   "cell_type": "code",
   "execution_count": 93,
   "metadata": {},
   "outputs": [
    {
     "name": "stdout",
     "output_type": "stream",
     "text": [
      "Max Week = 5/8 ~ 5/14\n"
     ]
    }
   ],
   "source": [
    "# 문제 2\n",
    "\n",
    "import csv\n",
    "\n",
    "f = open(\"./seoul.csv\")\n",
    "data = csv.reader(f, delimiter=',')\n",
    "header = next(data)\n",
    "\n",
    "weekCount = 0\n",
    "weekSum = 0.0\n",
    "weekStart = ''\n",
    "weekEnd = ''\n",
    "\n",
    "maxSum = 0.0\n",
    "maxStart = ''\n",
    "maxEnd = ''\n",
    "\n",
    "for row in data:\n",
    "    weekCount += 1\n",
    "    low = float(row[3])\n",
    "    high = float(row[4])\n",
    "    diff = abs(high-low)\n",
    "    \n",
    "    weekSum += diff\n",
    "    \n",
    "    if weekCount == 1:\n",
    "        weekStart = row[0]\n",
    "    if weekCount == 7:\n",
    "        weekEnd = row[0]\n",
    "        if weekSum > maxSum:\n",
    "            maxSum = weekSum\n",
    "            maxStart = weekStart\n",
    "            maxEnd = weekEnd\n",
    "        weekCount = 0\n",
    "        weekSum = 0.0\n",
    "        \n",
    "arr1 = maxStart.split('-')\n",
    "sMon = int(arr1[1])\n",
    "sDay = int(arr1[2])\n",
    "arr2 = maxEnd.split('-')\n",
    "eMon = int(arr2[1])\n",
    "eDay = int(arr2[2])\n",
    "\n",
    "print('Max Week = {0:d}/{1:d} ~ {2:d}/{3:d}'.format(sMon, sDay, eMon, eDay))\n",
    "\n",
    "f.close()"
   ]
  },
  {
   "cell_type": "code",
   "execution_count": 94,
   "metadata": {},
   "outputs": [
    {
     "data": {
      "image/png": "[encoded data removed]",
      "text/plain": [
       "<Figure size 432x288 with 1 Axes>"
      ]
     },
     "metadata": {
      "needs_background": "light"
     },
     "output_type": "display_data"
    }
   ],
   "source": [
    "# 문제 3\n",
    "\n",
    "import numpy as np\n",
    "import matplotlib.pyplot as plt\n",
    "\n",
    "Docs = [1, 1, 0, 1, 0, 1, 1, 1, 1, 0, 1, 0, 1, 1, 0, 1, 0, 0]\n",
    "Docs = np.array(Docs).reshape(3,6)\n",
    "\n",
    "query = np.array([1, 1, 0, 0, 1, 0])\n",
    "\n",
    "for i,row in enumerate(Docs):\n",
    "    cos = np.sum(row * query)/(np.sqrt(np.sum(row**2)) * np.sqrt(np.sum(query**2)))\n",
    "    plt.bar('doc{0:d}={1:.2f}'.format(i+1, cos), cos, color='lightblue')\n",
    "    \n",
    "plt.title('Cosine similarities')\n",
    "plt.show()"
   ]
  }
 ],
 "metadata": {
  "kernelspec": {
   "display_name": "Python 3",
   "language": "python",
   "name": "python3"
  },
  "language_info": {
   "codemirror_mode": {
    "name": "ipython",
    "version": 3
   },
   "file_extension": ".py",
   "mimetype": "text/x-python",
   "name": "python",
   "nbconvert_exporter": "python",
   "pygments_lexer": "ipython3",
   "version": "3.8.5"
  }
 },
 "nbformat": 4,
 "nbformat_minor": 4
}
